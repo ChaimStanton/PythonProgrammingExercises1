{
 "cells": [
  {
   "cell_type": "markdown",
   "metadata": {},
   "source": [
    "## Markdown task\n",
    "Make sure you have used all of the following features of markdown including\n",
    "\n",
    "* Headings  \n",
    "* Lists (and sublists like this one!)  \n",
    "* Python formatted code  \n",
    "* Italics and/or bold  \n",
    "* links  "
   ]
  },
  {
   "cell_type": "markdown",
   "metadata": {},
   "source": [
    "## This is a heading \n",
    "\n",
    "* This\n",
    "* Is a list\n",
    "\n",
    "```python\n",
    "# python formatted code\n",
    "a = 34```\n",
    "\n",
    "**bold**  \n",
    "*italics*  \n",
    "[Google link](http://www.google.com/)\n"
   ]
  }
 ],
 "metadata": {
  "kernelspec": {
   "display_name": "Python 3",
   "language": "python",
   "name": "python3"
  },
  "language_info": {
   "codemirror_mode": {
    "name": "ipython",
    "version": 3
   },
   "file_extension": ".py",
   "mimetype": "text/x-python",
   "name": "python",
   "nbconvert_exporter": "python",
   "pygments_lexer": "ipython3",
   "version": "3.6.5"
  }
 },
 "nbformat": 4,
 "nbformat_minor": 2
}
